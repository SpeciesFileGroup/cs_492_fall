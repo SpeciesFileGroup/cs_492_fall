{
 "cells": [
  {
   "cell_type": "code",
   "execution_count": 42,
   "metadata": {},
   "outputs": [],
   "source": [
    "from bokeh.plotting import figure, output_file, show\n",
    "from bokeh.models import ColumnDataSource, LinearColorMapper\n",
    "import re"
   ]
  },
  {
   "cell_type": "code",
   "execution_count": 2,
   "metadata": {},
   "outputs": [],
   "source": [
    "filepath = \"sample_data.log\"\n",
    "output_file(\"journals_verification.html\")"
   ]
  },
  {
   "cell_type": "code",
   "execution_count": 33,
   "metadata": {},
   "outputs": [],
   "source": [
    "class JournalCollection(): \n",
    "    \"\"\" Conglomerates journals together so that we don't have a million data points \n",
    "    \n",
    "    For example, americanjournalo02amer, americanjournalo03amer, americanjournalo05amer, and americanjournalo06amer are different versions \n",
    "    of the americanjournal. Instead of having one data point for each, we put all 4 together into the same collection. \n",
    "    \n",
    "    For now, we are only combining the Verified to Unverified Ratio data\n",
    "    \"\"\"\n",
    "    def __init__(self, title): \n",
    "        self.title = title \n",
    "        self.edition_to_ratio = dict()\n",
    "    def get_average_ratio(self): \n",
    "        \"\"\" Returns the arithmetic mean of the Verified to Unverified Ratio data \"\"\"\n",
    "        if len(self.edition_to_ratio) == 0: \n",
    "            return 0 \n",
    "        return sum(self.edition_to_ratio.values()) / len(self.edition_to_ratio)\n",
    "    \n",
    "def extract_journal(name): \n",
    "    \"\"\" Extracts the journal name and the edition from the raw journal id \"\"\"\n",
    "    match = re.search(\"\\d+\", name)\n",
    "    if match != None: \n",
    "        return name[:match.start()], int(name[match.start(): match.end()])\n",
    "    else: \n",
    "        return \"\", 0"
   ]
  },
  {
   "cell_type": "code",
   "execution_count": 38,
   "metadata": {
    "scrolled": true
   },
   "outputs": [],
   "source": [
    "# Setting up our data by mapping from the journal name to a JournalCollection object\n",
    "journals = dict() \n",
    "with open(filepath, \"r\") as f: \n",
    "    for i in range(37500): # Looking at 100 journal points \n",
    "        name = f.readline()\n",
    "        ratio = f.readline()\n",
    "        name, edition = extract_journal(name)\n",
    "        ratio = float(ratio.strip().split()[-1])\n",
    "        \n",
    "        journal = journals.get(name, JournalCollection(name))\n",
    "        journal.edition_to_ratio[edition] = ratio\n",
    "        journals[name] = journal"
   ]
  },
  {
   "cell_type": "code",
   "execution_count": 39,
   "metadata": {},
   "outputs": [],
   "source": [
    "data = {k : v.get_average_ratio() for (k, v) in journals.items()}\n",
    "keys = [k for k in journals.keys()]\n",
    "TOOLTIPS = [(\"index\", \"$index\")] # \"(x, y), (keys[$x], $y)\"\n",
    "plot = figure(plot_height = 1000, \n",
    "              plot_width = 1000, \n",
    "              title = \"Journal vs Verification Ratio\", \n",
    "              tools = \"pan, crosshair, wheel_zoom, reset, hover\", \n",
    "              toolbar_location = \"below\", \n",
    "              toolbar_sticky = False,\n",
    "             tooltips = TOOLTIPS)\n",
    "plot.circle(x = range(len(data)), y  = list(data.values()), tags = keys, size = 10, color = \"blue\", alpha = 0.5)\n",
    "show(plot)"
   ]
  },
  {
   "cell_type": "code",
   "execution_count": 43,
   "metadata": {},
   "outputs": [],
   "source": [
    "from math import pi\n",
    "import pandas as pd\n",
    "\n",
    "from bokeh.io import show\n",
    "from bokeh.models import LinearColorMapper, BasicTicker, PrintfTickFormatter, ColorBar\n",
    "from bokeh.plotting import figure\n",
    "from bokeh.sampledata.unemployment1948 import data\n",
    "\n",
    "data['Year'] = data['Year'].astype(str)\n",
    "data = data.set_index('Year')\n",
    "data.drop('Annual', axis=1, inplace=True)\n",
    "data.columns.name = 'Month'\n",
    "\n",
    "years = list(data.index)\n",
    "months = list(data.columns)\n",
    "\n",
    "# reshape to 1D array or rates with a month and year for each row.\n",
    "df = pd.DataFrame(data.stack(), columns=['rate']).reset_index()\n",
    "\n",
    "# this is the colormap from the original NYTimes plot\n",
    "colors = [\"#75968f\", \"#a5bab7\", \"#c9d9d3\", \"#e2e2e2\", \"#dfccce\", \"#ddb7b1\", \"#cc7878\", \"#933b41\", \"#550b1d\"]\n",
    "mapper = LinearColorMapper(palette=colors, low=df.rate.min(), high=df.rate.max())\n",
    "\n",
    "TOOLS = \"hover,save,pan,box_zoom,reset,wheel_zoom\"\n",
    "\n",
    "p = figure(title=\"US Unemployment ({0} - {1})\".format(years[0], years[-1]),\n",
    "           x_range=years, y_range=list(reversed(months)),\n",
    "           x_axis_location=\"above\", plot_width=900, plot_height=400,\n",
    "           tools=TOOLS, toolbar_location='below',\n",
    "           tooltips=[('date', '@Month @Year'), ('rate', '@rate%')])\n",
    "\n",
    "p.grid.grid_line_color = None\n",
    "p.axis.axis_line_color = None\n",
    "p.axis.major_tick_line_color = None\n",
    "p.axis.major_label_text_font_size = \"5pt\"\n",
    "p.axis.major_label_standoff = 0\n",
    "p.xaxis.major_label_orientation = pi / 3\n",
    "\n",
    "p.rect(x=\"Year\", y=\"Month\", width=1, height=1,\n",
    "       source=df,\n",
    "       fill_color={'field': 'rate', 'transform': mapper},\n",
    "       line_color=None)\n",
    "\n",
    "color_bar = ColorBar(color_mapper=mapper, major_label_text_font_size=\"5pt\",\n",
    "                     ticker=BasicTicker(desired_num_ticks=len(colors)),\n",
    "                     formatter=PrintfTickFormatter(format=\"%d%%\"),\n",
    "                     label_standoff=6, border_line_color=None, location=(0, 0))\n",
    "p.add_layout(color_bar, 'right')\n",
    "\n",
    "show(p)      # show the plot"
   ]
  }
 ],
 "metadata": {
  "kernelspec": {
   "display_name": "Python [conda env:Senior_Project_Env]",
   "language": "python",
   "name": "conda-env-Senior_Project_Env-py"
  },
  "language_info": {
   "codemirror_mode": {
    "name": "ipython",
    "version": 3
   },
   "file_extension": ".py",
   "mimetype": "text/x-python",
   "name": "python",
   "nbconvert_exporter": "python",
   "pygments_lexer": "ipython3",
   "version": "3.7.0"
  }
 },
 "nbformat": 4,
 "nbformat_minor": 2
}
